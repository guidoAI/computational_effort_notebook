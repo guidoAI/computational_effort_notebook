{
 "cells": [
  {
   "cell_type": "markdown",
   "metadata": {},
   "source": [
    "In [1], Viola and Jones introduced a very efficient object detection algorithm. As most other object detectors of the time, it sees object detection as a binary _classification problem_; It runs a window over the entire image at various scales and for each sample classifies it as the object of interest or not. The computational efficiency of the method derives from the use of integral images - allowing the quick determination of 'Haar' feature values irrespective of their scale - and the use of cascades of weak classifiers - allowing to quickly reject most samples, before extracting too many features from the sample.\n",
    "\n",
    "Below, you  will play with the parameters of the algorithm, as executed by OpenCV, and gauge the impact on the processing time.\n",
    "\n",
    "<font color='red'><B>Exercise</B></font>\n",
    "The below code imports the file `live.py`, which detects faces in the images coming from your webcam <A HREF=\"https://github.com/guidoAI/computational_effort_notebook/blob/master/live.py\" TARGET=\"_blank\">(link to file)</A>. It runs the OpenCV face detector on the images. You will see a new window that shows the images and detections (with green boxes), and you will see below a print-out with a carriage return of the number of faces found and the time that the algorithm takes in seconds.\n",
    "\n",
    "1. Can you make the execution time larger or smaller by manipulating the content of the images? How is the execution time related to the content? \n",
    "\n",
    "You can stop the script by clicking the 'Stop' symbol on the toolbar (next to 'Run')."
   ]
  },
  {
   "cell_type": "code",
   "execution_count": null,
   "metadata": {
    "scrolled": true
   },
   "outputs": [],
   "source": [
    "import live\n",
    "live.run_detection();"
   ]
  },
  {
   "cell_type": "markdown",
   "metadata": {},
   "source": [
    "<font color='red'><B>Exercise</B></font>\n",
    "Below, you can see the code that was run above. The function `run_detection` takes three parameters:\n",
    "`scale_factor`, `min_neighbors`, and `min_size` (<A HREF=\"https://docs.opencv.org/2.4/modules/objdetect/doc/cascade_classification.html\" TARGET=\"_blank\">documentation of the OpenCV function</A>).\n",
    "\n",
    "1. Can you make the algorithm run much faster by changing the parameters? Why does it become much faster? Does it influence the performance of the algorithm in any significant way?\n",
    "2. Can you make the algorithm much faster by other means, e.g., adding more parameters or intervening (adding / changing code) in the `run_detection` function? How, and why does the execution time change? Does this affect the performance in any significant way?"
   ]
  },
  {
   "cell_type": "code",
   "execution_count": null,
   "metadata": {},
   "outputs": [],
   "source": [
    "import cv2\n",
    "import time\n",
    "\n",
    "def run_detection(scale_factor = 1.1, min_neighbors = 5, min_size = 30):\n",
    "    cap = cv2.VideoCapture(0)\n",
    "    \n",
    "    # Create the haar cascade\n",
    "    faceCascade = cv2.CascadeClassifier(\"haarcascade_frontalface_default.xml\")\n",
    "    \n",
    "    while(True):\n",
    "    \t# Capture frame-by-frame\n",
    "    \tret, frame = cap.read(); start_time = time.time();\n",
    "        \n",
    "    \t# Our operations on the frame come here\n",
    "    \tgray = cv2.cvtColor(frame, cv2.COLOR_BGR2GRAY)\n",
    "    \n",
    "    \t# Detect faces in the image\n",
    "    \tfaces = faceCascade.detectMultiScale(\n",
    "    \t\tgray,\n",
    "    \t\tscaleFactor=scale_factor,\n",
    "    \t\tminNeighbors=min_neighbors,\n",
    "    \t\tminSize=(min_size, min_size)\n",
    "    \t\t#flags = cv2.CV_HAAR_SCALE_IMAGE\n",
    "    \t); end_time = time.time();\n",
    "    \n",
    "    \tprint(\"Found {0} faces, in {1} seconds.\".format(len(faces), end_time - start_time), end='\\r')\n",
    "    \n",
    "    \t# Draw a rectangle around the faces\n",
    "    \tfor (x, y, w, h) in faces:\n",
    "    \t\tcv2.rectangle(frame, (x, y), (x+w, y+h), (0, 255, 0), 2)\n",
    "    \n",
    "    \n",
    "    \t# Display the resulting frame\n",
    "    \tcv2.imshow('frame', frame)\n",
    "    \tif cv2.waitKey(1) & 0xFF == ord('q'):\n",
    "    \t\tbreak\n",
    "    \n",
    "    # When everything done, release the capture\n",
    "    cap.release()\n",
    "    cv2.destroyAllWindows()\n",
    "\n",
    "# play with the parameters:\n",
    "scale_factor = 1.1;\n",
    "min_neighbors = 5;\n",
    "min_size = 30;\n",
    "run_detection(scale_factor, min_neighbors, min_size);"
   ]
  },
  {
   "cell_type": "markdown",
   "metadata": {},
   "source": [
    "[1] Viola, P., & Jones, M. (2001). Rapid object detection using a boosted cascade of simple features. In Computer Vision and Pattern Recognition, 2001. CVPR 2001. Proceedings of the 2001 IEEE Computer Society Conference on (Vol. 1, pp. I-511). \n"
   ]
  }
 ],
 "metadata": {
  "kernelspec": {
   "display_name": "Python 3",
   "language": "python",
   "name": "python3"
  },
  "language_info": {
   "codemirror_mode": {
    "name": "ipython",
    "version": 3
   },
   "file_extension": ".py",
   "mimetype": "text/x-python",
   "name": "python",
   "nbconvert_exporter": "python",
   "pygments_lexer": "ipython3",
   "version": "3.6.7"
  }
 },
 "nbformat": 4,
 "nbformat_minor": 2
}
